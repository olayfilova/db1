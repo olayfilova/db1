{
 "cells": [
  {
   "cell_type": "code",
   "execution_count": 16,
   "id": "94b5619f-7e00-4b59-bf09-00e5ec9091a5",
   "metadata": {},
   "outputs": [],
   "source": [
    "import pandas as pd\n",
    "import sql\n",
    "\n",
    "\n"
   ]
  },
  {
   "cell_type": "code",
   "execution_count": 17,
   "id": "ef2769fd-6452-488b-bb93-2fbe036c3454",
   "metadata": {},
   "outputs": [],
   "source": [
    "data ='adult.data.csv'\n"
   ]
  },
  {
   "cell_type": "code",
   "execution_count": 18,
   "id": "33ccf29a-08c8-4d9a-816d-9d14e067b908",
   "metadata": {},
   "outputs": [
    {
     "name": "stdout",
     "output_type": "stream",
     "text": [
      "       age         workclass  fnlwgt   education  education-num  \\\n",
      "0       39         State-gov   77516   Bachelors             13   \n",
      "1       50  Self-emp-not-inc   83311   Bachelors             13   \n",
      "2       38           Private  215646     HS-grad              9   \n",
      "3       53           Private  234721        11th              7   \n",
      "4       28           Private  338409   Bachelors             13   \n",
      "...    ...               ...     ...         ...            ...   \n",
      "32556   27           Private  257302  Assoc-acdm             12   \n",
      "32557   40           Private  154374     HS-grad              9   \n",
      "32558   58           Private  151910     HS-grad              9   \n",
      "32559   22           Private  201490     HS-grad              9   \n",
      "32560   52      Self-emp-inc  287927     HS-grad              9   \n",
      "\n",
      "           marital-status         occupation   relationship   race     sex  \\\n",
      "0           Never-married       Adm-clerical  Not-in-family  White    Male   \n",
      "1      Married-civ-spouse    Exec-managerial        Husband  White    Male   \n",
      "2                Divorced  Handlers-cleaners  Not-in-family  White    Male   \n",
      "3      Married-civ-spouse  Handlers-cleaners        Husband  Black    Male   \n",
      "4      Married-civ-spouse     Prof-specialty           Wife  Black  Female   \n",
      "...                   ...                ...            ...    ...     ...   \n",
      "32556  Married-civ-spouse       Tech-support           Wife  White  Female   \n",
      "32557  Married-civ-spouse  Machine-op-inspct        Husband  White    Male   \n",
      "32558             Widowed       Adm-clerical      Unmarried  White  Female   \n",
      "32559       Never-married       Adm-clerical      Own-child  White    Male   \n",
      "32560  Married-civ-spouse    Exec-managerial           Wife  White  Female   \n",
      "\n",
      "       capital-gain  capital-loss  hours-per-week native-country salary  \n",
      "0              2174             0              40  United-States  <=50K  \n",
      "1                 0             0              13  United-States  <=50K  \n",
      "2                 0             0              40  United-States  <=50K  \n",
      "3                 0             0              40  United-States  <=50K  \n",
      "4                 0             0              40           Cuba  <=50K  \n",
      "...             ...           ...             ...            ...    ...  \n",
      "32556             0             0              38  United-States  <=50K  \n",
      "32557             0             0              40  United-States   >50K  \n",
      "32558             0             0              40  United-States  <=50K  \n",
      "32559             0             0              20  United-States  <=50K  \n",
      "32560         15024             0              40  United-States   >50K  \n",
      "\n",
      "[32561 rows x 15 columns]\n"
     ]
    },
    {
     "name": "stderr",
     "output_type": "stream",
     "text": [
      "/var/folders/7d/nsx0ykqj2wgd34slxv9hcm040000gn/T/ipykernel_1732/2668610031.py:1: FutureWarning: The 'keep_date_col' keyword in pd.read_csv is deprecated and will be removed in a future version. Explicitly remove unwanted columns after parsing instead.\n",
      "  df = pd.read_csv(\n",
      "/var/folders/7d/nsx0ykqj2wgd34slxv9hcm040000gn/T/ipykernel_1732/2668610031.py:1: FutureWarning: The argument 'infer_datetime_format' is deprecated and will be removed in a future version. A strict version of it is now the default, see https://pandas.pydata.org/pdeps/0004-consistent-to-datetime-parsing.html. You can safely remove this argument.\n",
      "  df = pd.read_csv(\n",
      "/var/folders/7d/nsx0ykqj2wgd34slxv9hcm040000gn/T/ipykernel_1732/2668610031.py:1: FutureWarning: The 'delim_whitespace' keyword in pd.read_csv is deprecated and will be removed in a future version. Use ``sep='\\s+'`` instead\n",
      "  df = pd.read_csv(\n",
      "/var/folders/7d/nsx0ykqj2wgd34slxv9hcm040000gn/T/ipykernel_1732/2668610031.py:1: FutureWarning: The 'verbose' keyword in pd.read_csv is deprecated and will be removed in a future version.\n",
      "  df = pd.read_csv(\n",
      "/var/folders/7d/nsx0ykqj2wgd34slxv9hcm040000gn/T/ipykernel_1732/2668610031.py:1: FutureWarning: The argument 'date_parser' is deprecated and will be removed in a future version. Please use 'date_format' instead, or read your data in as 'object' dtype and then call 'to_datetime'.\n",
      "  df = pd.read_csv(\n"
     ]
    }
   ],
   "source": [
    "df = pd.read_csv(\n",
    "    data,\n",
    "    sep=',',\n",
    "    delimiter=None,\n",
    "    header='infer',\n",
    "    names=None,\n",
    "    index_col=None,\n",
    "    usecols=None,\n",
    "    dtype=None,\n",
    "    engine=None,\n",
    "    converters=None,\n",
    "    true_values=None,\n",
    "    false_values=None,\n",
    "    skipinitialspace=False,\n",
    "    skiprows=None,\n",
    "    skipfooter=0,\n",
    "    nrows=None,\n",
    "    na_values=None,\n",
    "    keep_default_na=True,\n",
    "    na_filter=True,\n",
    "    verbose=False,\n",
    "    parse_dates=False,\n",
    "    infer_datetime_format=False,\n",
    "    keep_date_col=False,\n",
    "    date_parser=None,\n",
    "    dayfirst=False,\n",
    "    iterator=False,\n",
    "    chunksize=None,\n",
    "    compression='infer',\n",
    "    thousands=None,\n",
    "    decimal='.',\n",
    "    lineterminator=None,\n",
    "    quotechar='\"',\n",
    "    quoting=0,\n",
    "    doublequote=True,\n",
    "    escapechar=None,\n",
    "    comment=None,\n",
    "    encoding=None,\n",
    "    encoding_errors='strict',\n",
    "    dialect=None,\n",
    "    delim_whitespace=False,\n",
    "    low_memory=True,\n",
    "    memory_map=False,\n",
    "    float_precision=None,\n",
    "    on_bad_lines='warn'  # Corrected from True to 'warn'\n",
    ")\n",
    "\n",
    "print(df)"
   ]
  },
  {
   "cell_type": "code",
   "execution_count": 86,
   "id": "a904eb75-6e3c-4ce2-9684-db5f599f47eb",
   "metadata": {},
   "outputs": [
    {
     "name": "stdout",
     "output_type": "stream",
     "text": [
      "21790\n",
      "10771\n"
     ]
    }
   ],
   "source": [
    "#1\n",
    "res_fem=df[df[\"sex\"]==\"Female\"]\n",
    "res_male=df[df[\"sex\"]=='Male']\n",
    "print(res_male.shape[0])\n",
    "print(res_fem.shape[0])"
   ]
  },
  {
   "cell_type": "code",
   "execution_count": 235,
   "id": "5196046e-c16f-461b-8bb7-c54082c79b94",
   "metadata": {},
   "outputs": [
    {
     "name": "stdout",
     "output_type": "stream",
     "text": [
      "36\n",
      "36.9\n"
     ]
    }
   ],
   "source": [
    "#2\n",
    "av_age_fe=df[df[\"sex\"] == \"Female\"][\"age\"].mean()\n",
    "\n",
    "print(int(av_age_fe))\n",
    "print(av_age_fe.round(1))"
   ]
  },
  {
   "cell_type": "code",
   "execution_count": 89,
   "id": "14976d18-dc88-48c0-bca9-56ea7650520c",
   "metadata": {},
   "outputs": [
    {
     "name": "stdout",
     "output_type": "stream",
     "text": [
      "137\n"
     ]
    }
   ],
   "source": [
    "#3\n",
    "germ_native = df[df[\"native-country\"]=='Germany']\n",
    "print(germ_native.shape[0])\n"
   ]
  },
  {
   "cell_type": "code",
   "execution_count": 90,
   "id": "96d73fae-779f-460e-8127-7a81772c2ac2",
   "metadata": {},
   "outputs": [
    {
     "name": "stdout",
     "output_type": "stream",
     "text": [
      "German native from whole data is 2.3767153284671534%, wich is apprx 2%\n"
     ]
    }
   ],
   "source": [
    "percent_germ=(df.shape[0]/germ_native.shape[0])*0.01\n",
    "print(f\"German native from whole data is {percent_germ}%, wich is apprx {round(percent_germ)}%\")"
   ]
  },
  {
   "cell_type": "code",
   "execution_count": 236,
   "id": "698e5cb2-656f-43aa-b464-244332c7c9a9",
   "metadata": {},
   "outputs": [
    {
     "name": "stdout",
     "output_type": "stream",
     "text": [
      "44.24984058155847\n",
      "44.2\n"
     ]
    }
   ],
   "source": [
    "#4-5\n",
    "avr_age_50pl=df[df[\"salary\"]=='>50K']['age'].mean()\n",
    "stat_devia_50pl=df[df[\"salary\"]=='>50K']['age'].std()\n",
    "\n",
    "print(avr_age_50pl)\n",
    "print(avr_age_50pl.round(1))\n",
    "\n"
   ]
  },
  {
   "cell_type": "code",
   "execution_count": 102,
   "id": "a1b72a62-f815-420e-9105-7fc13d42f5cc",
   "metadata": {},
   "outputs": [
    {
     "name": "stdout",
     "output_type": "stream",
     "text": [
      "10.519027719851826 0.0\n"
     ]
    }
   ],
   "source": [
    "print(stat_devia_50pl)"
   ]
  },
  {
   "cell_type": "code",
   "execution_count": 108,
   "id": "af8ae7c1-57b9-4b29-93be-be1e273fb210",
   "metadata": {},
   "outputs": [
    {
     "name": "stdout",
     "output_type": "stream",
     "text": [
      "36.78373786407767\n"
     ]
    }
   ],
   "source": [
    "avr_age_less_50=df[df[\"salary\"]=='<=50K']['age'].mean()\n",
    "print(avr_age_less_50)"
   ]
  },
  {
   "cell_type": "code",
   "execution_count": 113,
   "id": "3138d36c-0ebd-42a1-bcaf-50372cfe51b2",
   "metadata": {},
   "outputs": [],
   "source": [
    "stat_dev_less_50=df[df[\"salary\"]=='<=50K']['age'].std()\n",
    "print(stat_dev_less_50)"
   ]
  },
  {
   "cell_type": "code",
   "execution_count": 117,
   "id": "709c513e-d561-4c29-a071-60c99056eca2",
   "metadata": {},
   "outputs": [
    {
     "name": "stdout",
     "output_type": "stream",
     "text": [
      "7             HS-grad\n",
      "8             Masters\n",
      "9           Bachelors\n",
      "10       Some-college\n",
      "11          Bachelors\n",
      "             ...     \n",
      "32539       Doctorate\n",
      "32545      Assoc-acdm\n",
      "32554         Masters\n",
      "32557         HS-grad\n",
      "32560         HS-grad\n",
      "Name: education, Length: 7841, dtype: object\n"
     ]
    }
   ],
   "source": [
    "#6\n",
    "educ_more_50K=df[df[\"salary\"]=='>50K'][\"education\"]\n",
    "print(educ_more_50K)"
   ]
  },
  {
   "cell_type": "code",
   "execution_count": 134,
   "id": "8272ff0e-710d-42e3-88e9-a69010d586a7",
   "metadata": {},
   "outputs": [
    {
     "name": "stdout",
     "output_type": "stream",
     "text": [
      "<bound method GroupBy.size of <pandas.core.groupby.generic.DataFrameGroupBy object at 0x1215dcb20>>\n"
     ]
    }
   ],
   "source": [
    "res= df.groupby('education').size\n",
    "print(res)"
   ]
  },
  {
   "cell_type": "code",
   "execution_count": 146,
   "id": "fdeb7af8-55cf-4ce2-a885-941f9826fdf9",
   "metadata": {},
   "outputs": [],
   "source": [
    "hg=[' Bachelors', 'Prof-school', 'Assoc-acdm', 'Assoc-voc', 'Masters', 'Doctorate']"
   ]
  },
  {
   "cell_type": "code",
   "execution_count": 175,
   "id": "8b31d69a-4bdd-472c-ac37-9e0d1cd248d2",
   "metadata": {},
   "outputs": [
    {
     "name": "stdout",
     "output_type": "stream",
     "text": [
      "Ні, деякі люди, які отримують більше 50K, не мають вищої освіти.\n",
      "Кількість людей без вищої освіти, які отримують більше 50K: 7841\n"
     ]
    }
   ],
   "source": [
    "ppl_with_high_salary = df[df['salary'] == '>50K']\n",
    "\n",
    "hg_salery_more_50 = ppl_with_high_salary[ppl_with_high_salary['education'].isin(hg)]\n",
    "\n",
    "not_in_set = ppl_with_high_salary[~ppl_with_high_salary['education'].isin(hg)]\n",
    "\n",
    "if not_in_set.empty:\n",
    "    print(\"Так, всі люди, які отримують більше 50K, мають як мінімум вищу освіту.\")\n",
    "else:\n",
    "    print(\"Ні, деякі люди, які отримують більше 50K, не мають вищої освіти.\")\n",
    "    print(f\"Кількість людей без вищої освіти, які отримують більше 50K: {not_in_set.shape[0]}\")\n"
   ]
  },
  {
   "cell_type": "code",
   "execution_count": 176,
   "id": "97501638-921b-4917-b60b-1f3d4ca77d60",
   "metadata": {},
   "outputs": [],
   "source": [
    "#7\n",
    "stat_age_nat=df.groupby(['race','sex'])['age'].describe()"
   ]
  },
  {
   "cell_type": "code",
   "execution_count": 177,
   "id": "41ca7517-b3c2-47f6-a1c5-bfa2222e6f83",
   "metadata": {},
   "outputs": [
    {
     "name": "stdout",
     "output_type": "stream",
     "text": [
      "                             count       mean        std   min   25%   50%  \\\n",
      "race               sex                                                       \n",
      "Amer-Indian-Eskimo Female    119.0  37.117647  13.114991  17.0  27.0  36.0   \n",
      "                   Male      192.0  37.208333  12.049563  17.0  28.0  35.0   \n",
      "Asian-Pac-Islander Female    346.0  35.089595  12.300845  17.0  25.0  33.0   \n",
      "                   Male      693.0  39.073593  12.883944  18.0  29.0  37.0   \n",
      "Black              Female   1555.0  37.854019  12.637197  17.0  28.0  37.0   \n",
      "                   Male     1569.0  37.682600  12.882612  17.0  27.0  36.0   \n",
      "Other              Female    109.0  31.678899  11.631599  17.0  23.0  29.0   \n",
      "                   Male      162.0  34.654321  11.355531  17.0  26.0  32.0   \n",
      "White              Female   8642.0  36.811618  14.329093  17.0  25.0  35.0   \n",
      "                   Male    19174.0  39.652498  13.436029  17.0  29.0  38.0   \n",
      "\n",
      "                             75%   max  \n",
      "race               sex                  \n",
      "Amer-Indian-Eskimo Female  46.00  80.0  \n",
      "                   Male    45.00  82.0  \n",
      "Asian-Pac-Islander Female  43.75  75.0  \n",
      "                   Male    46.00  90.0  \n",
      "Black              Female  46.00  90.0  \n",
      "                   Male    46.00  90.0  \n",
      "Other              Female  39.00  74.0  \n",
      "                   Male    42.00  77.0  \n",
      "White              Female  46.00  90.0  \n",
      "                   Male    49.00  90.0  \n"
     ]
    }
   ],
   "source": [
    "print(stat_age_nat)"
   ]
  },
  {
   "cell_type": "code",
   "execution_count": 181,
   "id": "409687fb-e054-46a2-a888-76d36b659d98",
   "metadata": {},
   "outputs": [
    {
     "name": "stdout",
     "output_type": "stream",
     "text": [
      "82 is maximum age of American-Indian-Eskimo\n"
     ]
    }
   ],
   "source": [
    "max_age_am_esk=df[(df['race']=='Amer-Indian-Eskimo')& (df['sex']=='Male')]['age'].max()\n",
    "print(f'{max_age_am_esk} is maximum age of American-Indian-Eskimo')"
   ]
  },
  {
   "cell_type": "code",
   "execution_count": 206,
   "id": "faa6a73a-6faa-40ef-92dc-24e4aa350482",
   "metadata": {},
   "outputs": [
    {
     "name": "stdout",
     "output_type": "stream",
     "text": [
      "5965\n"
     ]
    }
   ],
   "source": [
    "#8\n",
    "married = ['Married-civ-spouse', 'Married-spouse-absent', 'Married-AF-spouse']\n",
    "man_total=df[df['sex']==\"Male\"]\n",
    "married_rich=df[(df['marital-status'].isin(married))&(df['salary']=='>50K')&(df['sex']==\"Male\")].shape[0]\n",
    "print(res)"
   ]
  },
  {
   "cell_type": "code",
   "execution_count": 226,
   "id": "553e7231-e5ed-4ac4-902b-633de7c259b7",
   "metadata": {},
   "outputs": [
    {
     "name": "stdout",
     "output_type": "stream",
     "text": [
      "Частка багатих серед одружених чоловіків: 44.05%\n",
      "Частка багатих серед не одружених чоловіків: 8.45%\n",
      "Серед одружених чоловіків більша частка багатих (>50K).\n"
     ]
    }
   ],
   "source": [
    "married = ['Married-civ-spouse', 'Married-spouse-absent', 'Married-AF-spouse']\n",
    "\n",
    "men_df = df[df['sex'] == 'Male']\n",
    "rich_men_df = men_df[men_df['salary'] == '>50K']\n",
    "\n",
    "rich_married_men = rich_men_df[rich_men_df['marital-status'].isin(married)].shape[0]\n",
    "total_married_men = men_df[men_df['marital-status'].isin(married)].shape[0]\n",
    "\n",
    "rich_unmarried_men = rich_men_df[~rich_men_df['marital-status'].isin(married)].shape[0]\n",
    "total_unmarried_men = men_df[~men_df['marital-status'].isin(married)].shape[0]\n",
    "\n",
    "share_rich_married_men = rich_married_men / total_married_men\n",
    "share_rich_unmarried_men = rich_unmarried_men / total_unmarried_men\n",
    "\n",
    "print(f\"Частка багатих серед одружених чоловіків: {share_rich_married_men:.2%}\")\n",
    "print(f\"Частка багатих серед не одружених чоловіків: {share_rich_unmarried_men:.2%}\")\n",
    "\n",
    "if share_rich_married_men > share_rich_unmarried_men:\n",
    "    print(\"Серед одружених чоловіків більша частка багатих (>50K).\")\n",
    "else:\n",
    "    print(\"Серед не одружених чоловіків більша частка багатих (>50K).\")\n"
   ]
  },
  {
   "cell_type": "code",
   "execution_count": 228,
   "id": "5cf60891-aa15-41f5-aeb3-3cd2d54939d9",
   "metadata": {},
   "outputs": [
    {
     "name": "stdout",
     "output_type": "stream",
     "text": [
      "Максимальна кількість годин на тиждень: 99\n",
      "Кількість людей, які працюють 99 годин на тиждень: 85\n",
      "Кількість багатих людей серед них: 25\n",
      "Відсоток багатих людей серед тих, хто працює 99 годин на тиждень: 29.41%\n"
     ]
    }
   ],
   "source": [
    "#9\n",
    "max_hours_per_week = df['hours-per-week'].max()\n",
    "\n",
    "people_working_max_hours = df[df['hours-per-week'] == max_hours_per_week].shape[0]\n",
    "\n",
    "rich_people_working_max_hours = df[(df['hours-per-week'] == max_hours_per_week) & (df['salary'] == '>50K')].shape[0]\n",
    "\n",
    "percentage_rich = (rich_people_working_max_hours / people_working_max_hours) * 100\n",
    "\n",
    "print(f\"Максимальна кількість годин на тиждень: {max_hours_per_week}\")\n",
    "print(f\"Кількість людей, які працюють {max_hours_per_week} годин на тиждень: {people_working_max_hours}\")\n",
    "print(f\"Кількість багатих людей серед них: {rich_people_working_max_hours}\")\n",
    "print(f\"Відсоток багатих людей серед тих, хто працює {max_hours_per_week} годин на тиждень: {percentage_rich:.2f}%\")\n",
    "\n"
   ]
  },
  {
   "cell_type": "code",
   "execution_count": 234,
   "id": "db5703f3-2566-49b5-b9a6-344ccccca786",
   "metadata": {},
   "outputs": [
    {
     "name": "stdout",
     "output_type": "stream",
     "text": [
      "Середня кількість годин на тиждень для багатих і бідних людей по країнах:\n",
      "salary                          <=50K       >50K\n",
      "native-country                                  \n",
      "?                           40.164760  45.547945\n",
      "Cambodia                    41.416667  40.000000\n",
      "Canada                      37.914634  45.641026\n",
      "China                       37.381818  38.900000\n",
      "Columbia                    38.684211  50.000000\n",
      "Cuba                        37.985714  42.440000\n",
      "Dominican-Republic          42.338235  47.000000\n",
      "Ecuador                     38.041667  48.750000\n",
      "El-Salvador                 36.030928  45.000000\n",
      "England                     40.483333  44.533333\n",
      "France                      41.058824  50.750000\n",
      "Germany                     39.139785  44.977273\n",
      "Greece                      41.809524  50.625000\n",
      "Guatemala                   39.360656  36.666667\n",
      "Haiti                       36.325000  42.750000\n",
      "Holand-Netherlands          40.000000        NaN\n",
      "Honduras                    34.333333  60.000000\n",
      "Hong                        39.142857  45.000000\n",
      "Hungary                     31.300000  50.000000\n",
      "India                       38.233333  46.475000\n",
      "Iran                        41.440000  47.500000\n",
      "Ireland                     40.947368  48.000000\n",
      "Italy                       39.625000  45.400000\n",
      "Jamaica                     38.239437  41.100000\n",
      "Japan                       41.000000  47.958333\n",
      "Laos                        40.375000  40.000000\n",
      "Mexico                      40.003279  46.575758\n",
      "Nicaragua                   36.093750  37.500000\n",
      "Outlying-US(Guam-USVI-etc)  41.857143        NaN\n",
      "Peru                        35.068966  40.000000\n",
      "Philippines                 38.065693  43.032787\n",
      "Poland                      38.166667  39.000000\n",
      "Portugal                    41.939394  41.500000\n",
      "Puerto-Rico                 38.470588  39.416667\n",
      "Scotland                    39.444444  46.666667\n",
      "South                       40.156250  51.437500\n",
      "Taiwan                      33.774194  46.800000\n",
      "Thailand                    42.866667  58.333333\n",
      "Trinadad&Tobago             37.058824  40.000000\n",
      "United-States               38.799127  45.505369\n",
      "Vietnam                     37.193548  39.200000\n",
      "Yugoslavia                  41.600000  49.500000\n"
     ]
    }
   ],
   "source": [
    "\n",
    "\n",
    "avg_hours = df.groupby(['native-country', 'salary'])['hours-per-week'].mean().unstack()\n",
    "\n",
    "print(\"Середня кількість годин на тиждень для багатих і бідних людей по країнах:\")\n",
    "print(avg_hours)\n",
    "\n"
   ]
  },
  {
   "cell_type": "code",
   "execution_count": null,
   "id": "3dc2bc9c-8c02-4b3d-aa3b-100d39af0b54",
   "metadata": {},
   "outputs": [],
   "source": []
  }
 ],
 "metadata": {
  "kernelspec": {
   "display_name": "Python 3 (ipykernel)",
   "language": "python",
   "name": "python3"
  },
  "language_info": {
   "codemirror_mode": {
    "name": "ipython",
    "version": 3
   },
   "file_extension": ".py",
   "mimetype": "text/x-python",
   "name": "python",
   "nbconvert_exporter": "python",
   "pygments_lexer": "ipython3",
   "version": "3.9.6"
  }
 },
 "nbformat": 4,
 "nbformat_minor": 5
}
